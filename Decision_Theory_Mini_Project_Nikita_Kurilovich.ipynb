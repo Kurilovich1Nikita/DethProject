{
 "cells": [
  {
   "cell_type": "code",
   "execution_count": 56,
   "id": "38030b1f",
   "metadata": {},
   "outputs": [],
   "source": [
    "from enum import Enum\n",
    "from random import randint, choice\n",
    "from copy import copy\n",
    "\n",
    "class Shoot(Enum):\n",
    "    def __str__(self):\n",
    "        return self.name\n",
    "    Left = 1\n",
    "    Middle = 2\n",
    "    Right = 3\n",
    "    \n",
    "class Save(Enum):\n",
    "    def __str__(self):\n",
    "        return self.name\n",
    "    Left = 1\n",
    "    Middle = 2\n",
    "    Right = 3\n",
    "    \n",
    "class PenaltyEnvironment():\n",
    "    def __init__(self, initial_state, reward_per_step, game_counter):\n",
    "        #(ShotPosition, SavePosition)\n",
    "        self.__possible_shots = \\\n",
    "        [(1, 1), (1, 2), (1, 3), \n",
    "         (2, 1), (2, 2), (2, 3), \n",
    "         (3, 1), (3, 2), (3, 3)]\n",
    "        game_counter = 0\n",
    "        if initial_state in self.__possible_shots:\n",
    "            self.__initial_state = initial_state\n",
    "        else:\n",
    "            self.__initial_state = (2,2)\n",
    "        self.__state = self.__initial_state\n",
    "        self.__reward_per_step = reward_per_step\n",
    "        \n",
    "    def reset(self):\n",
    "        self.__state = self.__initial_state\n",
    "        return self.__state\n",
    "    \n",
    "\n",
    "    def get_new_position(self, shoot, save):\n",
    "        n = randint(1, 3)\n",
    "        if n == 1:\n",
    "            shoot = Shoot.Left\n",
    "        elif n == 3:\n",
    "            shoot = Shoot.Right\n",
    "        else:\n",
    "            shoot = Shoot.Middle\n",
    "        \n",
    "        currentShoot, currentSave = self.__state, self.__state\n",
    "        if save == Save.Left:\n",
    "            if shoot == Shoot.Left:\n",
    "                currentShoot, currentSave = 1,1\n",
    "                reward -= 1\n",
    "            elif shoot == Shoot.Middle:\n",
    "                currentShoot, currentSave = 2,1\n",
    "                reward += 1\n",
    "            elif shoot == Shoot.Right:\n",
    "                currentShoot, currentSave = 3,1\n",
    "                reward += 1\n",
    "        if save == Save.Middle:\n",
    "            if shoot == Shoot.Left:\n",
    "                currentShoot, currentSave = 1,2\n",
    "                reward += 1\n",
    "            elif shoot == Shoot.Middle:\n",
    "                currentShoot, currentSave = 2,2\n",
    "                reward -= 1\n",
    "            elif shoot == Shoot.Right:\n",
    "                currentShoot, currentSave = 3,2\n",
    "                reward += 1\n",
    "        if save == Save.Right:\n",
    "            if shoot == Shoot.Left:\n",
    "                currentShoot, currentSave = 1,3\n",
    "                reward += 1\n",
    "            elif shoot == Shoot.Middle:\n",
    "                currentShoot, currentSave = 2,3\n",
    "                reward += 1\n",
    "            elif shoot == Shoot.Right:\n",
    "                currentShoot, currentSave = 3,3\n",
    "                reward -= 1\n",
    "        \n",
    "        if (currentShoot, currentSave) in self.__possible_states:\n",
    "            new_state = (currentShoot, currentSave)\n",
    "        else:\n",
    "            new_state = self.__state \n",
    "            \n",
    "        return new_state\n",
    "    \n",
    "    def get_possible_states(self):\n",
    "        return self.__possible_states\n",
    "    \n",
    "    #After 5 times shoot it will finish\n",
    "    def is_done(self, game_counter):\n",
    "        if game_counter >= 5:\n",
    "            state = self.__state\n",
    "        return state == (2, 2)\n",
    "    \n",
    "    def get_reward(self, reward):\n",
    "        self.__reward_per_step = reward\n",
    "        return self.__reward_per_step\n",
    "    \n",
    "    \n",
    "    def render(self):\n",
    "        BACKGROUND = [\n",
    "            '  ┌───────┬───────┬───────┐',\n",
    "            '  │       │       │       │',\n",
    "            '3 │       │       │       │',\n",
    "            '  │       │       │       │',\n",
    "            '  ├───────┼───────┼───────┤',\n",
    "            '  │       │░░░░░░░│       │',\n",
    "            '2 │       │░░░░░░░│       │',\n",
    "            '  │       │░░░░░░░│       │',\n",
    "            '  ├───────┼───────┼───────┤',\n",
    "            '  │       │       │       │',\n",
    "            '1 │       │       │       │',\n",
    "            '  │       │       │       │',\n",
    "            '  └───────┴───────┴───────┘',\n",
    "            '      1       2       3'\n",
    "        ]\n",
    "        cell_width, cell_height, left_x, bottom_y = 8, 4, -2, 15\n",
    "        rendering = copy(BACKGROUND)\n",
    "        # insert '*' at the current state\n",
    "        x, y = self.__state\n",
    "        line_nr = bottom_y - cell_height * y\n",
    "        char_nr = left_x + cell_width * x\n",
    "        old_line = rendering[line_nr]\n",
    "        rendering[line_nr] = old_line[:char_nr] + '*' + old_line[char_nr+1:]\n",
    "        \n",
    "        for line in rendering:\n",
    "            print(line)\n",
    "        print('reward per step:', self.__reward_per_step)\n",
    "    \n",
    "    def get_possible_shots(self):\n",
    "        return self.__possible_shots\n",
    "\n",
    "    "
   ]
  },
  {
   "cell_type": "code",
   "execution_count": 57,
   "id": "e98eef10",
   "metadata": {},
   "outputs": [
    {
     "name": "stdout",
     "output_type": "stream",
     "text": [
      "shootAction 1 is Left\n",
      "shootAction 2 is Middle\n",
      "shootAction 3 is Right\n"
     ]
    }
   ],
   "source": [
    "for nr, shoot in enumerate(Shoot, 1):\n",
    "    print('shootAction', nr, 'is', shoot)"
   ]
  },
  {
   "cell_type": "code",
   "execution_count": 58,
   "id": "a3b6ff9a",
   "metadata": {},
   "outputs": [
    {
     "name": "stdout",
     "output_type": "stream",
     "text": [
      "saveAction 1 is Left\n",
      "saveAction 2 is Middle\n",
      "saveAction 3 is Right\n"
     ]
    }
   ],
   "source": [
    "for nr, save in enumerate(Save, 1):\n",
    "    print('saveAction', nr, 'is', save)"
   ]
  },
  {
   "cell_type": "code",
   "execution_count": 59,
   "id": "b98a36ac",
   "metadata": {},
   "outputs": [
    {
     "name": "stdout",
     "output_type": "stream",
     "text": [
      "number: 2\n"
     ]
    }
   ],
   "source": [
    "n = randint(1,3)\n",
    "print('number:', n)"
   ]
  },
  {
   "cell_type": "code",
   "execution_count": null,
   "id": "9bd73be8",
   "metadata": {},
   "outputs": [],
   "source": []
  }
 ],
 "metadata": {
  "kernelspec": {
   "display_name": "Python 3",
   "language": "python",
   "name": "python3"
  },
  "language_info": {
   "codemirror_mode": {
    "name": "ipython",
    "version": 3
   },
   "file_extension": ".py",
   "mimetype": "text/x-python",
   "name": "python",
   "nbconvert_exporter": "python",
   "pygments_lexer": "ipython3",
   "version": "3.8.5"
  }
 },
 "nbformat": 4,
 "nbformat_minor": 5
}
